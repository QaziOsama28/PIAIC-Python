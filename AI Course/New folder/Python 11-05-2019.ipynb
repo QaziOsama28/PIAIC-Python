{
 "cells": [
  {
   "cell_type": "code",
   "execution_count": 9,
   "metadata": {},
   "outputs": [
    {
     "name": "stdout",
     "output_type": "stream",
     "text": [
      "Enter your first name: Qazi\n",
      "Enter your last name: Osama\n",
      "Enter your email address: qaziosama30@gmail.com\n",
      "Contact n:03072699569\n",
      "First name: Qazi\n",
      "Last name: Osama\n",
      "Email: qaziosama30@gmail.com\n",
      "Contact no: 03072699569\n"
     ]
    }
   ],
   "source": [
    "F_name= input(\"Enter your first name: \")\n",
    "L_name= input(\"Enter your last name: \")\n",
    "email= input(\"Enter your email address: \")\n",
    "Contact= input(\"Contact n:\")\n",
    "print(\"First name: \"+F_name+\"\\nLast name: \"+L_name+\"\\nEmail: \"+email+\"\\nContact no: \"+Contact)"
   ]
  },
  {
   "cell_type": "markdown",
   "metadata": {},
   "source": [
    "# IF Statement\n"
   ]
  },
  {
   "cell_type": "code",
   "execution_count": 14,
   "metadata": {},
   "outputs": [
    {
     "name": "stdout",
     "output_type": "stream",
     "text": [
      "a is less than b\n",
      "b is greater than\n"
     ]
    }
   ],
   "source": [
    "a= 10\n",
    "b= 20\n",
    "if a<b:\n",
    "    print(\"a is less than b\")\n",
    "    print(\"b is greater than\")\n"
   ]
  },
  {
   "cell_type": "code",
   "execution_count": 29,
   "metadata": {},
   "outputs": [
    {
     "name": "stdout",
     "output_type": "stream",
     "text": [
      "Number:3\n",
      "3 is Odd\n"
     ]
    }
   ],
   "source": [
    "a=int(input(\"Number:\"))\n",
    "if a%2==0:\n",
    "    print(f\"{a} is Even\")\n",
    "else:\n",
    "    print(f\"{a} is Odd\")\n",
    "    "
   ]
  },
  {
   "cell_type": "code",
   "execution_count": null,
   "metadata": {},
   "outputs": [],
   "source": []
  },
  {
   "cell_type": "code",
   "execution_count": null,
   "metadata": {},
   "outputs": [],
   "source": []
  },
  {
   "cell_type": "code",
   "execution_count": null,
   "metadata": {},
   "outputs": [],
   "source": []
  }
 ],
 "metadata": {
  "kernelspec": {
   "display_name": "Python 3",
   "language": "python",
   "name": "python3"
  },
  "language_info": {
   "codemirror_mode": {
    "name": "ipython",
    "version": 3
   },
   "file_extension": ".py",
   "mimetype": "text/x-python",
   "name": "python",
   "nbconvert_exporter": "python",
   "pygments_lexer": "ipython3",
   "version": "3.7.3"
  }
 },
 "nbformat": 4,
 "nbformat_minor": 2
}
